{
  "nbformat": 4,
  "nbformat_minor": 0,
  "metadata": {
    "colab": {
      "provenance": []
    },
    "kernelspec": {
      "name": "python3",
      "display_name": "Python 3"
    },
    "language_info": {
      "name": "python"
    }
  },
  "cells": [
    {
      "cell_type": "code",
      "execution_count": null,
      "metadata": {
        "id": "lt2I4lTKYZkA"
      },
      "outputs": [],
      "source": [
        "from datasets import load_dataset, Audio, DatasetDict\n",
        "import pandas as pd\n",
        "import os\n",
        "from tqdm import tqdm\n",
        "import glob"
      ]
    },
    {
      "cell_type": "code",
      "source": [
        "from datasets import Dataset, DatasetDict\n",
        "import os\n",
        "\n",
        "# Paths\n",
        "wav_dir = \"path/to/nptel-pure/wav\"\n",
        "txt_dir = \"path/to/nptel-pure/corrected_txt\"\n",
        "\n",
        "# Prepare data\n",
        "data = []\n",
        "for file_name in os.listdir(wav_dir):\n",
        "    if file_name.endswith(\".wav\"):\n",
        "        audio_path = os.path.join(wav_dir, file_name)\n",
        "        transcript_path = os.path.join(txt_dir, file_name.replace(\".wav\", \".txt\"))\n",
        "        if os.path.exists(transcript_path):\n",
        "            with open(transcript_path, 'r') as f:\n",
        "                text = f.read().strip()\n",
        "            data.append({\"audio\": audio_path, \"text\": text})\n",
        "\n",
        "# Create HuggingFace Dataset\n",
        "dataset = Dataset.from_list(data)\n",
        "dataset = dataset.cast_column(\"audio\", datasets.features.Audio(sampling_rate=16000))\n",
        "\n",
        "dataset = dataset.train_test_split(test_size=0.1)\n",
        "\n",
        "print(dataset)"
      ],
      "metadata": {
        "id": "-wR_XCGIaOeH"
      },
      "execution_count": null,
      "outputs": []
    },
    {
      "cell_type": "code",
      "source": [],
      "metadata": {
        "id": "dI6pLP9OaOga"
      },
      "execution_count": null,
      "outputs": []
    },
    {
      "cell_type": "code",
      "source": [],
      "metadata": {
        "id": "-US2MFIHaOkx"
      },
      "execution_count": null,
      "outputs": []
    },
    {
      "cell_type": "code",
      "source": [],
      "metadata": {
        "id": "8LH1JvqHaOmy"
      },
      "execution_count": null,
      "outputs": []
    },
    {
      "cell_type": "code",
      "source": [],
      "metadata": {
        "id": "qgl6jalraOqy"
      },
      "execution_count": null,
      "outputs": []
    }
  ]
}