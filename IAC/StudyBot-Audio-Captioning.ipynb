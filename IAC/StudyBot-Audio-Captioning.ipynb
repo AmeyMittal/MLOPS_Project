{
 "cells": [
  {
   "cell_type": "code",
   "execution_count": null,
   "id": "2587a300",
   "metadata": {},
   "outputs": [],
   "source": [
    "# runs in Chameleon Jupyter environment\n",
    "mkdir -p /work/.local/bin\n",
    "wget https://releases.hashicorp.com/terraform/1.10.5/terraform_1.10.5_linux_amd64.zip\n",
    "unzip -o -q terraform_1.10.5_linux_amd64.zip\n",
    "mv terraform /work/.local/bin\n",
    "rm terraform_1.10.5_linux_amd64.zip"
   ]
  },
  {
   "cell_type": "markdown",
   "id": "99b5b81a",
   "metadata": {},
   "source": [
    "export PATH=/work/.local/bin:$PATH"
   ]
  },
  {
   "cell_type": "code",
   "execution_count": null,
   "id": "287320ce",
   "metadata": {},
   "outputs": [],
   "source": [
    "terraform"
   ]
  },
  {
   "cell_type": "code",
   "execution_count": null,
   "id": "e35a3d99",
   "metadata": {},
   "outputs": [],
   "source": [
    "find /work -name \"clouds.yaml\""
   ]
  },
  {
   "cell_type": "markdown",
   "id": "66232115",
   "metadata": {},
   "source": [
    "# runs in Chameleon Jupyter environment\n",
    "export PATH=/work/.local/bin:$PATH"
   ]
  },
  {
   "cell_type": "code",
   "execution_count": null,
   "id": "7a1f6043",
   "metadata": {},
   "outputs": [],
   "source": [
    "# runs in Chameleon Jupyter environment\n",
    "unset $(set | grep -o \"^OS_[A-Za-z0-9_]*\")"
   ]
  },
  {
   "cell_type": "code",
   "execution_count": null,
   "id": "57a10adc",
   "metadata": {},
   "outputs": [],
   "source": [
    "cp /work/mlops-chi-f7d95d3a14dad3aa567b8347b5f4766b5042d054/clouds.yaml /work//StudyBot-Audio-Captioning-and-Q-A-chatbot-/tf/kvm/clouds.yaml"
   ]
  },
  {
   "cell_type": "code",
   "execution_count": null,
   "id": "448e98af",
   "metadata": {},
   "outputs": [],
   "source": [
    "cd /work//StudyBot-Audio-Captioning-and-Q-A-chatbot-/tf/kvm"
   ]
  },
  {
   "cell_type": "code",
   "execution_count": null,
   "id": "6654e2ba",
   "metadata": {},
   "outputs": [],
   "source": [
    "# runs in Chameleon Jupyter environment\n",
    "cat  clouds.yaml"
   ]
  },
  {
   "cell_type": "code",
   "execution_count": null,
   "id": "4149c072",
   "metadata": {},
   "outputs": [],
   "source": [
    "terraform init"
   ]
  },
  {
   "cell_type": "code",
   "execution_count": null,
   "id": "c00a0ce9",
   "metadata": {},
   "outputs": [],
   "source": [
    "# runs in Chameleon Jupyter environment\n",
    "export TF_VAR_suffix=project48\n",
    "export TF_VAR_key=id_rsa_chameleon2"
   ]
  },
  {
   "cell_type": "markdown",
   "id": "f467930e",
   "metadata": {},
   "source": [
    "terraform validate"
   ]
  },
  {
   "cell_type": "code",
   "execution_count": null,
   "id": "beea0da7",
   "metadata": {},
   "outputs": [],
   "source": [
    "terraform plan"
   ]
  },
  {
   "cell_type": "markdown",
   "id": "1881fb30",
   "metadata": {},
   "source": [
    "terraform apply -auto-approve"
   ]
  },
  {
   "cell_type": "code",
   "execution_count": null,
   "id": "e3df34bd",
   "metadata": {},
   "outputs": [],
   "source": [
    "# runs in Chameleon Jupyter environment\n",
    "PYTHONUSERBASE=/work/.local pip install --user ansible-core==2.16.9 ansible==9.8.0"
   ]
  },
  {
   "cell_type": "code",
   "execution_count": null,
   "id": "65fc2f23",
   "metadata": {},
   "outputs": [],
   "source": [
    "# runs in Chameleon Jupyter environment\n",
    "export PATH=/work/.local/bin:$PATH\n",
    "export PYTHONUSERBASE=/work/.local"
   ]
  },
  {
   "cell_type": "code",
   "execution_count": null,
   "id": "8d649cf2",
   "metadata": {},
   "outputs": [],
   "source": [
    "# runs in Chameleon Jupyter environment\n",
    "ansible-playbook --help"
   ]
  },
  {
   "cell_type": "code",
   "execution_count": null,
   "id": "fab9329b",
   "metadata": {},
   "outputs": [],
   "source": [
    "cp /work/mlops-chi-f7d95d3a14dad3aa567b8347b5f4766b5042d054/ansible.cfg /work//StudyBot-Audio-Captioning-and-Q-A-chatbot-/tf/kvm/ansible.cfg"
   ]
  },
  {
   "cell_type": "code",
   "execution_count": null,
   "id": "6452e21c",
   "metadata": {},
   "outputs": [],
   "source": [
    "# runs in Chameleon Jupyter environment\n",
    "export PATH=/work/.local/bin:$PATH\n",
    "export PYTHONUSERBASE=/work/.local"
   ]
  },
  {
   "cell_type": "code",
   "execution_count": null,
   "id": "1284f978",
   "metadata": {},
   "outputs": [],
   "source": [
    "# runs in Chameleon Jupyter environment\n",
    "cat /work//StudyBot-Audio-Captioning-and-Q-A-chatbot-/ansible/ansible.cfg"
   ]
  },
  {
   "cell_type": "markdown",
   "id": "6118a555",
   "metadata": {},
   "source": [
    "# runs in Chameleon Jupyter environment\n",
    "cd /work//StudyBot-Audio-Captioning-and-Q-A-chatbot-/ansible"
   ]
  },
  {
   "cell_type": "code",
   "execution_count": null,
   "id": "67e040cf",
   "metadata": {},
   "outputs": [],
   "source": [
    "# runs in Chameleon Jupyter environment\n",
    "ansible -i inventory.yml all -m ping"
   ]
  },
  {
   "cell_type": "code",
   "execution_count": null,
   "id": "3491ace6",
   "metadata": {},
   "outputs": [],
   "source": [
    "# runs in Chameleon Jupyter environment\n",
    "PYTHONUSERBASE=/work/.local pip install --user -r /work//StudyBot-Audio-Captioning-and-Q-A-chatbot-/requirements.txt"
   ]
  },
  {
   "cell_type": "code",
   "execution_count": null,
   "id": "867c3bcf",
   "metadata": {},
   "outputs": [],
   "source": [
    "# runs in Chameleon Jupyter environment\n",
    "cd /work/studybot-iac/ansible\n",
    "ansible-playbook -i inventory.yml pre_k8s/pre_k8s_configure.yml"
   ]
  },
  {
   "cell_type": "code",
   "execution_count": null,
   "id": "7ce06b56",
   "metadata": {},
   "outputs": [],
   "source": [
    "# runs in Chameleon Jupyter environment\n",
    "export ANSIBLE_CONFIG=/work/StudyBot-Audio-Captioning-and-Q-A-chatbot-/ansible/ansible.cfg\n",
    "export ANSIBLE_ROLES_PATH=roles"
   ]
  },
  {
   "cell_type": "code",
   "execution_count": null,
   "id": "4e72056d",
   "metadata": {},
   "outputs": [],
   "source": [
    "# runs in Chameleon Jupyter environment\n",
    "cd /work/studybot-iac/ansible/k8s/kubespray\n",
    "ansible-playbook -i ../inventory/mycluster --become --become-user=root ./cluster.yml"
   ]
  },
  {
   "cell_type": "code",
   "execution_count": null,
   "id": "82ec20a6",
   "metadata": {},
   "outputs": [],
   "source": [
    "# runs in Chameleon Jupyter environment\n",
    "cd /work/StudyBot-Audio-Captioning-and-Q-A-chatbot-/ansible\n",
    "ansible-playbook -i inventory.yml post_k8s/post_k8s_configure.yml"
   ]
  },
  {
   "cell_type": "code",
   "execution_count": null,
   "id": "7242e2f7",
   "metadata": {},
   "outputs": [],
   "source": [
    "# runs in Chameleon Jupyter environment\n",
    "export PATH=/work/.local/bin:$PATH\n",
    "export PYTHONUSERBASE=/work/.local\n",
    "export ANSIBLE_CONFIG=/work/StudyBot-Audio-Captioning-and-Q-A-chatbot-/ansible/ansible.cfg\n",
    "export ANSIBLE_ROLES_PATH=roles"
   ]
  },
  {
   "cell_type": "code",
   "execution_count": null,
   "id": "0b622568",
   "metadata": {},
   "outputs": [],
   "source": [
    "# runs in Chameleon Jupyter environment\n",
    "cd /work/StudyBot-Audio-Captioning-and-Q-A-chatbot-/ansible\n",
    "ansible-playbook -i inventory.yml argocd/argocd_add_platform.yml"
   ]
  },
  {
   "cell_type": "code",
   "execution_count": null,
   "id": "1126720a",
   "metadata": {},
   "outputs": [],
   "source": [
    "# runs in Chameleon Jupyter environment\n",
    "cd /work/StudyBot-Audio-Captioning-and-Q-A-chatbot-/ansible\n",
    "ansible-playbook -i inventory.yml argocd/workflow_build_init.yml"
   ]
  }
 ],
 "metadata": {
  "language_info": {
   "name": "python"
  }
 },
 "nbformat": 4,
 "nbformat_minor": 5
}
